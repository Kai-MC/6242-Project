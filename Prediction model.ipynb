{
 "cells": [
  {
   "cell_type": "code",
   "execution_count": null,
   "id": "983837fc",
   "metadata": {},
   "outputs": [
    {
     "name": "stdout",
     "output_type": "stream",
     "text": [
      "[LightGBM] [Info] Auto-choosing row-wise multi-threading, the overhead of testing was 0.129043 seconds.\n",
      "You can set `force_row_wise=true` to remove the overhead.\n",
      "And if memory is not enough, you can set `force_col_wise=true`.\n",
      "[LightGBM] [Info] Total Bins 3776\n",
      "[LightGBM] [Info] Number of data points in the train set: 4637036, number of used features: 40\n",
      "[LightGBM] [Info] Start training from score -4.742506\n",
      "[LightGBM] [Info] Start training from score -0.227315\n",
      "[LightGBM] [Info] Start training from score -1.783047\n",
      "[LightGBM] [Info] Start training from score -3.631062\n",
      "Training until validation scores don't improve for 50 rounds\n",
      "[100]\tvalid_0's multi_logloss: 0.350587\n",
      "[200]\tvalid_0's multi_logloss: 0.332051\n",
      "[300]\tvalid_0's multi_logloss: 0.32832\n",
      "[400]\tvalid_0's multi_logloss: 0.319993\n",
      "[500]\tvalid_0's multi_logloss: 0.315684\n",
      "[600]\tvalid_0's multi_logloss: 0.312814\n",
      "[700]\tvalid_0's multi_logloss: 0.309305\n",
      "[800]\tvalid_0's multi_logloss: 0.307006\n",
      "[900]\tvalid_0's multi_logloss: 0.30328\n",
      "[1000]\tvalid_0's multi_logloss: 0.300617\n",
      "Did not meet early stopping. Best iteration is:\n",
      "[1000]\tvalid_0's multi_logloss: 0.300617\n"
     ]
    },
    {
     "name": "stderr",
     "output_type": "stream",
     "text": [
      "/Library/Frameworks/Python.framework/Versions/3.12/lib/python3.12/site-packages/sklearn/utils/validation.py:2739: UserWarning: X does not have valid feature names, but LGBMClassifier was fitted with feature names\n",
      "  warnings.warn(\n"
     ]
    },
    {
     "name": "stdout",
     "output_type": "stream",
     "text": [
      "Classification Report:\n",
      "               precision    recall  f1-score   support\n",
      "\n",
      "           1       0.64      0.28      0.38     13473\n",
      "           2       0.91      0.96      0.93   1231396\n",
      "           3       0.76      0.68      0.72    259868\n",
      "           4       0.64      0.21      0.31     40942\n",
      "\n",
      "    accuracy                           0.88   1545679\n",
      "   macro avg       0.74      0.53      0.59   1545679\n",
      "weighted avg       0.87      0.88      0.87   1545679\n",
      "\n",
      "Confusion Matrix:\n",
      " [[   3716    9192     550      15]\n",
      " [   1379 1176502   50687    2828]\n",
      " [    594   81800  175552    1922]\n",
      " [    161   28942    3302    8537]]\n"
     ]
    }
   ],
   "source": [
    "import pandas as pd\n",
    "from sklearn.model_selection import train_test_split, RandomizedSearchCV\n",
    "from sklearn.preprocessing import OrdinalEncoder\n",
    "from sklearn.compose import ColumnTransformer\n",
    "from sklearn.pipeline import Pipeline\n",
    "from sklearn.metrics import classification_report, confusion_matrix\n",
    "from lightgbm import LGBMClassifier\n",
    "from lightgbm import early_stopping, log_evaluation\n",
    "\n",
    "\n",
    "df = pd.read_csv(\"US_Accidents_March23.csv\")\n",
    "\n",
    "# Parse datetimes\n",
    "for col in [\"Start_Time\", \"End_Time\", \"Weather_Timestamp\"]:\n",
    "    df[col] = (\n",
    "        df[col]\n",
    "        .astype(str)\n",
    "        .str.replace(r\"\\.000000000$\", \"\", regex=True)\n",
    "        .pipe(pd.to_datetime, format=\"%Y-%m-%d %H:%M:%S\", errors=\"coerce\")\n",
    "    )\n",
    "\n",
    "# Feature engineering\n",
    "df[\"Start_Hour\"]   = df[\"Start_Time\"].dt.hour\n",
    "df[\"Start_Day\"]    = df[\"Start_Time\"].dt.dayofweek\n",
    "df[\"Start_Month\"]  = df[\"Start_Time\"].dt.month\n",
    "df[\"Duration(min)\"] = (df[\"End_Time\"] - df[\"Start_Time\"]).dt.total_seconds() / 60\n",
    "\n",
    "# Define features\n",
    "numeric_feats = [\n",
    "    \"Start_Lat\", \"Start_Lng\", \"End_Lat\", \"End_Lng\",\n",
    "    \"Distance(mi)\",\n",
    "    \"Temperature(F)\", \"Wind_Chill(F)\", \"Humidity(%)\", \"Pressure(in)\",\n",
    "    \"Visibility(mi)\", \"Wind_Speed(mph)\", \"Precipitation(in)\",\n",
    "    \"Start_Hour\", \"Start_Day\", \"Start_Month\", \"Duration(min)\",\n",
    "    # Booleans (will be treated as 0/1)\n",
    "    \"Amenity\", \"Bump\", \"Crossing\", \"Give_Way\", \"Junction\", \"No_Exit\",\n",
    "    \"Railway\", \"Roundabout\", \"Station\", \"Stop\",\n",
    "    \"Traffic_Calming\", \"Traffic_Signal\", \"Turning_Loop\"\n",
    "]\n",
    "\n",
    "cat_feats = [\n",
    "    \"City\", \"County\", \"State\", \"Zipcode\", \"Country\", \"Timezone\",\n",
    "    \"Airport_Code\", \"Wind_Direction\", \"Weather_Condition\",\n",
    "    \"Sunrise_Sunset\", \"Civil_Twilight\", \"Nautical_Twilight\",\n",
    "    \"Astronomical_Twilight\"\n",
    "]\n",
    "\n",
    "features = numeric_feats + cat_feats\n",
    "X = df[features]\n",
    "y = df[\"Severity\"]\n",
    "\n",
    "# Train / validation / test split\n",
    "X_temp, X_test,  y_temp,  y_test  = train_test_split(\n",
    "    X, y, test_size=0.20, random_state=42, stratify=y\n",
    ")\n",
    "X_train, X_val, y_train, y_val = train_test_split(\n",
    "    X_temp, y_temp, test_size=0.25, random_state=42, stratify=y_temp\n",
    ")\n",
    "# (0.25 of 0.8 gives 0.20 of original for validation)\n",
    "\n",
    "# Preprocessing: ordinal‑encode categoricals\n",
    "preprocessor = ColumnTransformer(\n",
    "    [(\"ord\", OrdinalEncoder(handle_unknown=\"use_encoded_value\", unknown_value=-1),\n",
    "      cat_feats)],\n",
    "    remainder=\"passthrough\"\n",
    ")\n",
    "\n",
    "# Pipeline: LightGBM with multiclass objective\n",
    "pipeline = Pipeline([\n",
    "    (\"preproc\", preprocessor),\n",
    "    (\"lgbm\", LGBMClassifier(\n",
    "        objective=\"multiclass\",\n",
    "        num_class=4,\n",
    "        n_estimators=1000,\n",
    "        learning_rate=0.05,\n",
    "        random_state=42,\n",
    "        n_jobs=-1\n",
    "    ))\n",
    "])\n",
    "\n",
    "# Preprocess training/validation/test sets manually\n",
    "pipeline.named_steps[\"preproc\"].fit(X_train)\n",
    "\n",
    "X_train_proc = pipeline.named_steps[\"preproc\"].transform(X_train)\n",
    "X_val_proc   = pipeline.named_steps[\"preproc\"].transform(X_val)\n",
    "X_test_proc  = pipeline.named_steps[\"preproc\"].transform(X_test)\n",
    "\n",
    "# Train LightGBM with early stopping via callbacks\n",
    "lgbm = pipeline.named_steps[\"lgbm\"]\n",
    "lgbm.fit(\n",
    "    X_train_proc, y_train,\n",
    "    eval_set=[(X_val_proc, y_val)],\n",
    "    eval_metric=\"multi_logloss\",                    # or \"multi_error\", etc.\n",
    "    callbacks=[\n",
    "        early_stopping(stopping_rounds=50),         # stop if no improvement\n",
    "        log_evaluation(period=100)                  # print metrics every 100 rounds\n",
    "    ]\n",
    ")\n",
    "\n",
    "# Predict on test set\n",
    "y_pred = lgbm.predict(X_test_proc)\n",
    "\n",
    "# Evaluate\n",
    "print(\"Classification Report:\\n\", classification_report(y_test, y_pred))\n",
    "print(\"Confusion Matrix:\\n\", confusion_matrix(y_test, y_pred))\n"
   ]
  },
  {
   "cell_type": "code",
   "execution_count": null,
   "id": "069ec148",
   "metadata": {},
   "outputs": [
    {
     "name": "stdout",
     "output_type": "stream",
     "text": [
      "[LightGBM] [Info] Auto-choosing row-wise multi-threading, the overhead of testing was 0.113854 seconds.\n",
      "You can set `force_row_wise=true` to remove the overhead.\n",
      "And if memory is not enough, you can set `force_col_wise=true`.\n",
      "[LightGBM] [Info] Total Bins 3776\n",
      "[LightGBM] [Info] Number of data points in the train set: 4637036, number of used features: 40\n",
      "[LightGBM] [Info] Start training from score -1.386294\n",
      "[LightGBM] [Info] Start training from score -1.386294\n",
      "[LightGBM] [Info] Start training from score -1.386294\n",
      "[LightGBM] [Info] Start training from score -1.386294\n",
      "Training until validation scores don't improve for 50 rounds\n",
      "Did not meet early stopping. Best iteration is:\n",
      "[1000]\tvalid_0's multi_logloss: 0.635416\n"
     ]
    },
    {
     "name": "stderr",
     "output_type": "stream",
     "text": [
      "/Library/Frameworks/Python.framework/Versions/3.12/lib/python3.12/site-packages/sklearn/utils/validation.py:2739: UserWarning: X does not have valid feature names, but LGBMClassifier was fitted with feature names\n",
      "  warnings.warn(\n"
     ]
    },
    {
     "name": "stdout",
     "output_type": "stream",
     "text": [
      "              precision    recall  f1-score   support\n",
      "\n",
      "           1       0.14      0.94      0.24     13473\n",
      "           2       0.98      0.68      0.80   1231396\n",
      "           3       0.55      0.83      0.66    259868\n",
      "           4       0.16      0.86      0.28     40942\n",
      "\n",
      "    accuracy                           0.71   1545679\n",
      "   macro avg       0.46      0.83      0.49   1545679\n",
      "weighted avg       0.88      0.71      0.76   1545679\n",
      "\n"
     ]
    }
   ],
   "source": [
    "from lightgbm import LGBMClassifier\n",
    "from sklearn.metrics import classification_report\n",
    "\n",
    "# Re‑initialize with balanced weights\n",
    "model_bal = LGBMClassifier(\n",
    "    objective=\"multiclass\",\n",
    "    num_class=4,\n",
    "    n_estimators=1000,\n",
    "    learning_rate=0.05,\n",
    "    class_weight=\"balanced\",   # balance the classes\n",
    "    random_state=42,\n",
    "    n_jobs=-1\n",
    ")\n",
    "\n",
    "# Fit on already‑preprocessed data\n",
    "# (assuming X_train_proc, y_train, X_val_proc, y_val, X_test_proc exist)\n",
    "model_bal.fit(\n",
    "    X_train_proc, y_train,\n",
    "    eval_set=[(X_val_proc, y_val)],\n",
    "    eval_metric=\"multi_logloss\",\n",
    "    callbacks=[early_stopping(stopping_rounds=50)]\n",
    ")\n",
    "\n",
    "# Evaluate\n",
    "y_pred_bal = model_bal.predict(X_test_proc)\n",
    "print(classification_report(y_test, y_pred_bal))\n"
   ]
  },
  {
   "cell_type": "code",
   "execution_count": null,
   "id": "b5ff52f2",
   "metadata": {},
   "outputs": [
    {
     "name": "stderr",
     "output_type": "stream",
     "text": [
      "/Library/Frameworks/Python.framework/Versions/3.12/lib/python3.12/site-packages/sklearn/utils/validation.py:2739: UserWarning: X does not have valid feature names, but LGBMClassifier was fitted with feature names\n",
      "  warnings.warn(\n"
     ]
    },
    {
     "name": "stdout",
     "output_type": "stream",
     "text": [
      "Best macro-F1 = 0.4948 at t1 = 0.50, t4 = 0.50\n",
      "\n",
      "Classification Report at optimal thresholds:\n",
      "              precision    recall  f1-score   support\n",
      "\n",
      "           1       0.14      0.94      0.24     13473\n",
      "           2       0.98      0.68      0.80   1231396\n",
      "           3       0.55      0.83      0.66    259868\n",
      "           4       0.16      0.86      0.28     40942\n",
      "\n",
      "    accuracy                           0.71   1545679\n",
      "   macro avg       0.46      0.83      0.49   1545679\n",
      "weighted avg       0.88      0.71      0.76   1545679\n",
      "\n"
     ]
    }
   ],
   "source": [
    "import numpy as np\n",
    "from sklearn.metrics import f1_score, classification_report\n",
    "\n",
    "# Get the probability matrix on your test set\n",
    "proba = model_bal.predict_proba(X_test_proc)\n",
    "\n",
    "# Define a grid of thresholds to try for class 1 (index 0) and class 4 (index 3)\n",
    "t1_grid = np.linspace(0.05, 0.50, 10)   # from 0.05 to 0.5 in 10 steps\n",
    "t4_grid = np.linspace(0.05, 0.50, 10)\n",
    "\n",
    "best_score = -1\n",
    "best_t1 = best_t4 = None\n",
    "\n",
    "# Grid‐search over (t1, t4)\n",
    "for t1 in t1_grid:\n",
    "    for t4 in t4_grid:\n",
    "        # generate predictions under these thresholds\n",
    "        preds = []\n",
    "        for p in proba:\n",
    "            if p[0] >= t1:\n",
    "                preds.append(1)\n",
    "            elif p[3] >= t4:\n",
    "                preds.append(4)\n",
    "            else:\n",
    "                preds.append(np.argmax(p) + 1)  # default to highest‐prob class\n",
    "\n",
    "        score = f1_score(y_test, preds, average=\"macro\")\n",
    "        if score > best_score:\n",
    "            best_score = score\n",
    "            best_t1, best_t4 = t1, t4\n",
    "\n",
    "print(f\"Best macro-F1 = {best_score:.4f} at t1 = {best_t1:.2f}, t4 = {best_t4:.2f}\")\n",
    "\n",
    "# Recompute and inspect the full report at those thresholds\n",
    "preds_opt = []\n",
    "for p in proba:\n",
    "    if p[0] >= best_t1:\n",
    "        preds_opt.append(1)\n",
    "    elif p[3] >= best_t4:\n",
    "        preds_opt.append(4)\n",
    "    else:\n",
    "        preds_opt.append(np.argmax(p) + 1)\n",
    "\n",
    "print(\"\\nClassification Report at optimal thresholds:\")\n",
    "print(classification_report(y_test, preds_opt))\n"
   ]
  },
  {
   "cell_type": "code",
   "execution_count": null,
   "id": "66287436",
   "metadata": {},
   "outputs": [
    {
     "name": "stderr",
     "output_type": "stream",
     "text": [
      "/Library/Frameworks/Python.framework/Versions/3.12/lib/python3.12/site-packages/sklearn/utils/validation.py:2739: UserWarning: X does not have valid feature names, but LGBMClassifier was fitted with feature names\n",
      "  warnings.warn(\n"
     ]
    },
    {
     "name": "stdout",
     "output_type": "stream",
     "text": [
      "▶ Best val macro‑F1 = 0.4520 at t1 = 0.300, t4 = 0.300\n"
     ]
    }
   ],
   "source": [
    "import numpy as np\n",
    "from sklearn.metrics import f1_score\n",
    "\n",
    "# 1a) get validation probabilities\n",
    "proba_val = model_bal.predict_proba(X_val_proc)\n",
    "\n",
    "# 1b) define a finer grid, say 0.01 to 0.3\n",
    "t1_grid = np.linspace(0.01, 0.30, 30)   # for class 1 (index 0)\n",
    "t4_grid = np.linspace(0.01, 0.30, 30)   # for class 4 (index 3)\n",
    "\n",
    "best_score = -1\n",
    "best_t1 = best_t4 = None\n",
    "\n",
    "for t1 in t1_grid:\n",
    "    for t4 in t4_grid:\n",
    "        preds = []\n",
    "        for p in proba_val:\n",
    "            if p[0] >= t1:\n",
    "                preds.append(1)\n",
    "            elif p[3] >= t4:\n",
    "                preds.append(4)\n",
    "            else:\n",
    "                preds.append(np.argmax(p) + 1)\n",
    "        score = f1_score(y_val, preds, average=\"macro\")\n",
    "        if score > best_score:\n",
    "            best_score = score\n",
    "            best_t1, best_t4 = t1, t4\n",
    "\n",
    "print(f\"▶ Best val macro-F1 = {best_score:.4f} at t1 = {best_t1:.3f}, t4 = {best_t4:.3f}\")\n"
   ]
  },
  {
   "cell_type": "code",
   "execution_count": 9,
   "id": "c790d5a4",
   "metadata": {},
   "outputs": [
    {
     "name": "stderr",
     "output_type": "stream",
     "text": [
      "/Library/Frameworks/Python.framework/Versions/3.12/lib/python3.12/site-packages/sklearn/utils/validation.py:2739: UserWarning: X does not have valid feature names, but LGBMClassifier was fitted with feature names\n",
      "  warnings.warn(\n"
     ]
    },
    {
     "name": "stdout",
     "output_type": "stream",
     "text": [
      "Test set report with tuned thresholds:\n",
      "              precision    recall  f1-score   support\n",
      "\n",
      "           1       0.12      0.96      0.21     13473\n",
      "           2       0.98      0.59      0.74   1231396\n",
      "           3       0.56      0.79      0.65    259868\n",
      "           4       0.12      0.92      0.21     40942\n",
      "\n",
      "    accuracy                           0.64   1545679\n",
      "   macro avg       0.44      0.82      0.45   1545679\n",
      "weighted avg       0.88      0.64      0.71   1545679\n",
      "\n"
     ]
    }
   ],
   "source": [
    "# get test probabilities\n",
    "proba_test = model_bal.predict_proba(X_test_proc)\n",
    "\n",
    "# generate test preds with the chosen thresholds\n",
    "preds_test = []\n",
    "for p in proba_test:\n",
    "    if p[0] >= best_t1:\n",
    "        preds_test.append(1)\n",
    "    elif p[3] >= best_t4:\n",
    "        preds_test.append(4)\n",
    "    else:\n",
    "        preds_test.append(np.argmax(p) + 1)\n",
    "\n",
    "from sklearn.metrics import classification_report\n",
    "print(\"Test set report with tuned thresholds:\")\n",
    "print(classification_report(y_test, preds_test))\n"
   ]
  },
  {
   "cell_type": "code",
   "execution_count": null,
   "id": "c09cde30",
   "metadata": {},
   "outputs": [
    {
     "data": {
      "image/png": "[encoded data removed]",
      "text/plain": [
       "<Figure size 640x480 with 1 Axes>"
      ]
     },
     "metadata": {},
     "output_type": "display_data"
    }
   ],
   "source": [
    "import matplotlib.pyplot as plt\n",
    "from sklearn.metrics import precision_recall_curve\n",
    "\n",
    "# for class 1\n",
    "prec1, rec1, thresh1 = precision_recall_curve(\n",
    "    (y_val == 1).astype(int),\n",
    "    proba_val[:,0]\n",
    ")\n",
    "plt.plot(rec1, prec1, label=\"class 1 PR\")\n",
    "# draw the chosen threshold\n",
    "ix = np.argmin(np.abs(thresh1 - best_t1))\n",
    "plt.scatter(rec1[ix], prec1[ix], marker='o', color='k',\n",
    "            label=f\"chosen t1={best_t1:.3f}\")\n",
    "plt.xlabel(\"Recall\"); plt.ylabel(\"Precision\"); plt.legend()\n",
    "plt.title(\"Precision-Recall for class 1\")\n",
    "plt.show()\n"
   ]
  },
  {
   "cell_type": "code",
   "execution_count": null,
   "id": "376a1207",
   "metadata": {},
   "outputs": [
    {
     "data": {
      "image/png": "[encoded data removed]",
      "text/plain": [
       "<Figure size 1000x400 with 2 Axes>"
      ]
     },
     "metadata": {},
     "output_type": "display_data"
    }
   ],
   "source": [
    "import matplotlib.pyplot as plt\n",
    "from sklearn.metrics import precision_recall_curve\n",
    "\n",
    "#    y_val (shape [n_val,]) and proba_val (shape [n_val, 4]) from the model\n",
    "\n",
    "# Compute PR for class 1 and class 4\n",
    "prec1, rec1, thr1 = precision_recall_curve((y_val==1).astype(int), proba_val[:,0])\n",
    "prec4, rec4, thr4 = precision_recall_curve((y_val==4).astype(int), proba_val[:,3])\n",
    "\n",
    "# Plot them side-by-side\n",
    "plt.figure(figsize=(10,4))\n",
    "\n",
    "plt.subplot(1,2,1)\n",
    "plt.plot(rec1, prec1, label='Class 1')\n",
    "ix1 = np.argmin(np.abs(thr1 - best_t1))\n",
    "plt.scatter(rec1[ix1], prec1[ix1], color='red', label=f't₁={best_t1:.2f}')\n",
    "plt.xlabel('Recall'); plt.ylabel('Precision'); plt.title('PR Curve – Class 1')\n",
    "plt.legend()\n",
    "\n",
    "plt.subplot(1,2,2)\n",
    "plt.plot(rec4, prec4, label='Class 4')\n",
    "ix4 = np.argmin(np.abs(thr4 - best_t4))\n",
    "plt.scatter(rec4[ix4], prec4[ix4], color='red', label=f't₄={best_t4:.2f}')\n",
    "plt.xlabel('Recall'); plt.ylabel('Precision'); plt.title('PR Curve – Class 4')\n",
    "plt.legend()\n",
    "\n",
    "plt.tight_layout()\n",
    "plt.show()\n"
   ]
  },
  {
   "cell_type": "code",
   "execution_count": null,
   "id": "b569dbf9",
   "metadata": {},
   "outputs": [
    {
     "name": "stderr",
     "output_type": "stream",
     "text": [
      "/Library/Frameworks/Python.framework/Versions/3.12/lib/python3.12/site-packages/sklearn/utils/validation.py:2739: UserWarning: X does not have valid feature names, but LGBMClassifier was fitted with feature names\n",
      "  warnings.warn(\n"
     ]
    },
    {
     "name": "stdout",
     "output_type": "stream",
     "text": [
      "Best threshold for class 1 → t1 = 0.917 (F1₁ = 0.496)\n",
      "Best threshold for class 4 → t4 = 0.803 (F1₄ = 0.413)\n"
     ]
    },
    {
     "name": "stderr",
     "output_type": "stream",
     "text": [
      "/Library/Frameworks/Python.framework/Versions/3.12/lib/python3.12/site-packages/sklearn/utils/validation.py:2739: UserWarning: X does not have valid feature names, but LGBMClassifier was fitted with feature names\n",
      "  warnings.warn(\n"
     ]
    },
    {
     "name": "stdout",
     "output_type": "stream",
     "text": [
      "\n",
      "Test classification report with per‑class thresholds:\n",
      "              precision    recall  f1-score   support\n",
      "\n",
      "           1       0.14      0.94      0.24     13473\n",
      "           2       0.98      0.68      0.80   1231396\n",
      "           3       0.55      0.83      0.66    259868\n",
      "           4       0.16      0.86      0.28     40942\n",
      "\n",
      "    accuracy                           0.71   1545679\n",
      "   macro avg       0.46      0.83      0.49   1545679\n",
      "weighted avg       0.88      0.71      0.76   1545679\n",
      "\n"
     ]
    }
   ],
   "source": [
    "import numpy as np\n",
    "from sklearn.metrics import precision_recall_curve, f1_score, classification_report\n",
    "\n",
    "# Get validation probabilities\n",
    "proba_val = model_bal.predict_proba(X_val_proc)\n",
    "\n",
    "# Find the best threshold *for class 1* by maximizing F1₁ = 2·P·R/(P+R)\n",
    "y_val_bin1 = (y_val == 1).astype(int)\n",
    "prec1, rec1, thr1 = precision_recall_curve(y_val_bin1, proba_val[:, 0])\n",
    "f1s1 = 2 * prec1 * rec1 / (prec1 + rec1 + 1e-8)\n",
    "ix1 = np.argmax(f1s1)\n",
    "best_t1 = thr1[ix1]\n",
    "print(f\"Best threshold for class 1 → t1 = {best_t1:.3f} (F1₁ = {f1s1[ix1]:.3f})\")\n",
    "\n",
    "# Find the best threshold *for class 4* in the same way\n",
    "y_val_bin4 = (y_val == 4).astype(int)\n",
    "prec4, rec4, thr4 = precision_recall_curve(y_val_bin4, proba_val[:, 3])\n",
    "f1s4 = 2 * prec4 * rec4 / (prec4 + rec4 + 1e-8)\n",
    "ix4 = np.argmax(f1s4)\n",
    "best_t4 = thr4[ix4]\n",
    "print(f\"Best threshold for class 4 → t4 = {best_t4:.3f} (F1₄ = {f1s4[ix4]:.3f})\")\n",
    "\n",
    "# Apply these to the *test* set\n",
    "proba_test = model_bal.predict_proba(X_test_proc)\n",
    "preds = []\n",
    "for p in proba_test:\n",
    "    if p[0] >= best_t1:\n",
    "        preds.append(1)\n",
    "    elif p[3] >= best_t4:\n",
    "        preds.append(4)\n",
    "    else:\n",
    "        preds.append(np.argmax(p) + 1)\n",
    "\n",
    "print(\"\\nTest classification report with per-class thresholds:\")\n",
    "print(classification_report(y_test, preds))\n"
   ]
  },
  {
   "cell_type": "code",
   "execution_count": 12,
   "id": "7863e799",
   "metadata": {},
   "outputs": [],
   "source": [
    "from sklearn.utils import resample\n",
    "import numpy as np\n",
    "\n",
    "# assume X_train_proc (n_samples × n_features) and y_train exist\n",
    "\n",
    "# masks\n",
    "mask1 = (y_train == 1)\n",
    "mask4 = (y_train == 4)\n",
    "\n",
    "# separate\n",
    "X1, y1 = X_train_proc[mask1], y_train[mask1]\n",
    "X4, y4 = X_train_proc[mask4], y_train[mask4]\n",
    "\n",
    "# target count: 30% of majority (class 2) size\n",
    "maj_count = (y_train == 2).sum()\n",
    "n_up = int(0.3 * maj_count)\n",
    "\n",
    "X1_up, y1_up = resample(X1, y1, replace=True,  n_samples=n_up, random_state=42)\n",
    "X4_up, y4_up = resample(X4, y4, replace=True,  n_samples=n_up, random_state=42)\n",
    "\n",
    "# combine\n",
    "X_res = np.vstack([X_train_proc, X1_up, X4_up])\n",
    "y_res = np.hstack([y_train,    y1_up, y4_up])\n"
   ]
  },
  {
   "cell_type": "code",
   "execution_count": null,
   "id": "d75e6026",
   "metadata": {},
   "outputs": [
    {
     "name": "stdout",
     "output_type": "stream",
     "text": [
      "[LightGBM] [Info] Auto-choosing row-wise multi-threading, the overhead of testing was 0.147713 seconds.\n",
      "You can set `force_row_wise=true` to remove the overhead.\n",
      "And if memory is not enough, you can set `force_col_wise=true`.\n",
      "[LightGBM] [Info] Total Bins 3780\n",
      "[LightGBM] [Info] Number of data points in the train set: 6853548, number of used features: 40\n",
      "[LightGBM] [Info] Start training from score -1.391060\n",
      "[LightGBM] [Info] Start training from score -0.916056\n",
      "[LightGBM] [Info] Start training from score -2.471789\n",
      "[LightGBM] [Info] Start training from score -1.321777\n",
      "Training until validation scores don't improve for 50 rounds\n",
      "Did not meet early stopping. Best iteration is:\n",
      "[1000]\tvalid_0's multi_logloss: 0.525661\n"
     ]
    },
    {
     "name": "stderr",
     "output_type": "stream",
     "text": [
      "/Library/Frameworks/Python.framework/Versions/3.12/lib/python3.12/site-packages/sklearn/utils/validation.py:2739: UserWarning: X does not have valid feature names, but LGBMClassifier was fitted with feature names\n",
      "  warnings.warn(\n"
     ]
    },
    {
     "name": "stdout",
     "output_type": "stream",
     "text": [
      "New best t1 = 0.914 with F1₁ = 0.505\n",
      "New best t4 = 0.801 with F1₄ = 0.433\n"
     ]
    },
    {
     "name": "stderr",
     "output_type": "stream",
     "text": [
      "/Library/Frameworks/Python.framework/Versions/3.12/lib/python3.12/site-packages/sklearn/utils/validation.py:2739: UserWarning: X does not have valid feature names, but LGBMClassifier was fitted with feature names\n",
      "  warnings.warn(\n"
     ]
    },
    {
     "name": "stdout",
     "output_type": "stream",
     "text": [
      "\n",
      "Test set report after custom weights + threshold tuning:\n",
      "              precision    recall  f1-score   support\n",
      "\n",
      "           1       0.14      0.95      0.24     13473\n",
      "           2       0.93      0.81      0.87   1231396\n",
      "           3       0.75      0.58      0.65    259868\n",
      "           4       0.19      0.84      0.30     40942\n",
      "\n",
      "    accuracy                           0.77   1545679\n",
      "   macro avg       0.50      0.79      0.52   1545679\n",
      "weighted avg       0.88      0.77      0.81   1545679\n",
      "\n"
     ]
    }
   ],
   "source": [
    "from lightgbm import LGBMClassifier, early_stopping\n",
    "import numpy as np\n",
    "from sklearn.metrics import precision_recall_curve, f1_score, classification_report\n",
    "\n",
    "# 2a) Define custom weights (milder than \"balanced\")\n",
    "weights = {1: 2, 2: 1, 3: 1, 4: 2}\n",
    "\n",
    "# 2b) Instantiate and fit on the resampled training data\n",
    "model_custom = LGBMClassifier(\n",
    "    objective=\"multiclass\",\n",
    "    num_class=4,\n",
    "    n_estimators=1000,\n",
    "    learning_rate=0.05,\n",
    "    class_weight=weights,\n",
    "    random_state=42,\n",
    "    n_jobs=-1\n",
    ")\n",
    "\n",
    "model_custom.fit(\n",
    "    X_res, y_res,\n",
    "    eval_set=[(X_val_proc, y_val)],\n",
    "    eval_metric=\"multi_logloss\",\n",
    "    callbacks=[early_stopping(stopping_rounds=50)]\n",
    ")\n",
    "\n",
    "# 2c) Per‑class threshold tuning on validation\n",
    "\n",
    "# Get validation probs\n",
    "proba_val = model_custom.predict_proba(X_val_proc)\n",
    "\n",
    "# Class 1 PR curve → best t1\n",
    "y_val_bin1 = (y_val == 1).astype(int)\n",
    "prec1, rec1, thr1 = precision_recall_curve(y_val_bin1, proba_val[:, 0])\n",
    "f1s1 = 2 * prec1 * rec1 / (prec1 + rec1 + 1e-8)\n",
    "best_t1 = thr1[np.argmax(f1s1)]\n",
    "print(f\"New best t1 = {best_t1:.3f} with F1₁ = {np.max(f1s1):.3f}\")\n",
    "\n",
    "# Class 4 PR curve → best t4\n",
    "y_val_bin4 = (y_val == 4).astype(int)\n",
    "prec4, rec4, thr4 = precision_recall_curve(y_val_bin4, proba_val[:, 3])\n",
    "f1s4 = 2 * prec4 * rec4 / (prec4 + rec4 + 1e-8)\n",
    "best_t4 = thr4[np.argmax(f1s4)]\n",
    "print(f\"New best t4 = {best_t4:.3f} with F1₄ = {np.max(f1s4):.3f}\")\n",
    "\n",
    "# 2d) Evaluate on test set with these thresholds\n",
    "proba_test = model_custom.predict_proba(X_test_proc)\n",
    "preds = []\n",
    "for p in proba_test:\n",
    "    if p[0] >= best_t1:\n",
    "        preds.append(1)\n",
    "    elif p[3] >= best_t4:\n",
    "        preds.append(4)\n",
    "    else:\n",
    "        preds.append(np.argmax(p) + 1)\n",
    "\n",
    "print(\"\\nTest set report after custom weights + threshold tuning:\")\n",
    "print(classification_report(y_test, preds))\n"
   ]
  },
  {
   "cell_type": "code",
   "execution_count": null,
   "id": "80765aa8",
   "metadata": {},
   "outputs": [
    {
     "name": "stdout",
     "output_type": "stream",
     "text": [
      "[LightGBM] [Info] Auto-choosing row-wise multi-threading, the overhead of testing was 0.173020 seconds.\n",
      "You can set `force_row_wise=true` to remove the overhead.\n",
      "And if memory is not enough, you can set `force_col_wise=true`.\n",
      "[LightGBM] [Info] Total Bins 3770\n",
      "[LightGBM] [Info] Number of data points in the train set: 5375872, number of used features: 40\n",
      "[LightGBM] [Info] Start training from score -2.035890\n",
      "[LightGBM] [Info] Start training from score -0.530283\n",
      "[LightGBM] [Info] Start training from score -2.086016\n",
      "[LightGBM] [Info] Start training from score -1.852678\n",
      "Training until validation scores don't improve for 50 rounds\n",
      "Did not meet early stopping. Best iteration is:\n",
      "[1000]\tvalid_0's multi_logloss: 0.396783\n"
     ]
    },
    {
     "name": "stderr",
     "output_type": "stream",
     "text": [
      "/Library/Frameworks/Python.framework/Versions/3.12/lib/python3.12/site-packages/sklearn/utils/validation.py:2739: UserWarning: X does not have valid feature names, but LGBMClassifier was fitted with feature names\n",
      "  warnings.warn(\n",
      "/Library/Frameworks/Python.framework/Versions/3.12/lib/python3.12/site-packages/sklearn/utils/validation.py:2739: UserWarning: X does not have valid feature names, but LGBMClassifier was fitted with feature names\n",
      "  warnings.warn(\n"
     ]
    },
    {
     "name": "stdout",
     "output_type": "stream",
     "text": [
      "[LightGBM] [Info] Auto-choosing row-wise multi-threading, the overhead of testing was 0.198724 seconds.\n",
      "You can set `force_row_wise=true` to remove the overhead.\n",
      "And if memory is not enough, you can set `force_col_wise=true`.\n",
      "[LightGBM] [Info] Total Bins 3764\n",
      "[LightGBM] [Info] Number of data points in the train set: 6114710, number of used features: 40\n",
      "[LightGBM] [Info] Start training from score -1.604686\n",
      "[LightGBM] [Info] Start training from score -0.741658\n",
      "[LightGBM] [Info] Start training from score -2.297391\n",
      "[LightGBM] [Info] Start training from score -1.504163\n",
      "Training until validation scores don't improve for 50 rounds\n",
      "Did not meet early stopping. Best iteration is:\n",
      "[1000]\tvalid_0's multi_logloss: 0.470766\n"
     ]
    },
    {
     "name": "stderr",
     "output_type": "stream",
     "text": [
      "/Library/Frameworks/Python.framework/Versions/3.12/lib/python3.12/site-packages/sklearn/utils/validation.py:2739: UserWarning: X does not have valid feature names, but LGBMClassifier was fitted with feature names\n",
      "  warnings.warn(\n",
      "/Library/Frameworks/Python.framework/Versions/3.12/lib/python3.12/site-packages/sklearn/utils/validation.py:2739: UserWarning: X does not have valid feature names, but LGBMClassifier was fitted with feature names\n",
      "  warnings.warn(\n"
     ]
    },
    {
     "name": "stdout",
     "output_type": "stream",
     "text": [
      "[LightGBM] [Info] Auto-choosing row-wise multi-threading, the overhead of testing was 0.283228 seconds.\n",
      "You can set `force_row_wise=true` to remove the overhead.\n",
      "And if memory is not enough, you can set `force_col_wise=true`.\n",
      "[LightGBM] [Info] Total Bins 3780\n",
      "[LightGBM] [Info] Number of data points in the train set: 6853548, number of used features: 40\n",
      "[LightGBM] [Info] Start training from score -1.391060\n",
      "[LightGBM] [Info] Start training from score -0.916056\n",
      "[LightGBM] [Info] Start training from score -2.471789\n",
      "[LightGBM] [Info] Start training from score -1.321777\n",
      "Training until validation scores don't improve for 50 rounds\n",
      "Did not meet early stopping. Best iteration is:\n",
      "[1000]\tvalid_0's multi_logloss: 0.525661\n"
     ]
    },
    {
     "name": "stderr",
     "output_type": "stream",
     "text": [
      "/Library/Frameworks/Python.framework/Versions/3.12/lib/python3.12/site-packages/sklearn/utils/validation.py:2739: UserWarning: X does not have valid feature names, but LGBMClassifier was fitted with feature names\n",
      "  warnings.warn(\n",
      "/Library/Frameworks/Python.framework/Versions/3.12/lib/python3.12/site-packages/sklearn/utils/validation.py:2739: UserWarning: X does not have valid feature names, but LGBMClassifier was fitted with feature names\n",
      "  warnings.warn(\n"
     ]
    },
    {
     "name": "stdout",
     "output_type": "stream",
     "text": [
      "[LightGBM] [Info] Auto-choosing row-wise multi-threading, the overhead of testing was 0.323622 seconds.\n",
      "You can set `force_row_wise=true` to remove the overhead.\n",
      "And if memory is not enough, you can set `force_col_wise=true`.\n",
      "[LightGBM] [Info] Total Bins 3769\n",
      "[LightGBM] [Info] Number of data points in the train set: 7592386, number of used features: 40\n",
      "[LightGBM] [Info] Start training from score -1.260666\n",
      "[LightGBM] [Info] Start training from score -1.064509\n",
      "[LightGBM] [Info] Start training from score -2.620241\n",
      "[LightGBM] [Info] Start training from score -1.207806\n",
      "Training until validation scores don't improve for 50 rounds\n",
      "Did not meet early stopping. Best iteration is:\n",
      "[1000]\tvalid_0's multi_logloss: 0.571988\n"
     ]
    },
    {
     "name": "stderr",
     "output_type": "stream",
     "text": [
      "/Library/Frameworks/Python.framework/Versions/3.12/lib/python3.12/site-packages/sklearn/utils/validation.py:2739: UserWarning: X does not have valid feature names, but LGBMClassifier was fitted with feature names\n",
      "  warnings.warn(\n",
      "/Library/Frameworks/Python.framework/Versions/3.12/lib/python3.12/site-packages/sklearn/utils/validation.py:2739: UserWarning: X does not have valid feature names, but LGBMClassifier was fitted with feature names\n",
      "  warnings.warn(\n"
     ]
    },
    {
     "name": "stdout",
     "output_type": "stream",
     "text": [
      "[LightGBM] [Info] Auto-choosing row-wise multi-threading, the overhead of testing was 0.459085 seconds.\n",
      "You can set `force_row_wise=true` to remove the overhead.\n",
      "And if memory is not enough, you can set `force_col_wise=true`.\n",
      "[LightGBM] [Info] Total Bins 3774\n",
      "[LightGBM] [Info] Number of data points in the train set: 8331224, number of used features: 40\n",
      "[LightGBM] [Info] Start training from score -1.172098\n",
      "[LightGBM] [Info] Start training from score -1.193745\n",
      "[LightGBM] [Info] Start training from score -2.749478\n",
      "[LightGBM] [Info] Start training from score -1.129366\n",
      "Training until validation scores don't improve for 50 rounds\n",
      "Did not meet early stopping. Best iteration is:\n",
      "[1000]\tvalid_0's multi_logloss: 0.611954\n"
     ]
    },
    {
     "name": "stderr",
     "output_type": "stream",
     "text": [
      "/Library/Frameworks/Python.framework/Versions/3.12/lib/python3.12/site-packages/sklearn/utils/validation.py:2739: UserWarning: X does not have valid feature names, but LGBMClassifier was fitted with feature names\n",
      "  warnings.warn(\n",
      "/Library/Frameworks/Python.framework/Versions/3.12/lib/python3.12/site-packages/sklearn/utils/validation.py:2739: UserWarning: X does not have valid feature names, but LGBMClassifier was fitted with feature names\n",
      "  warnings.warn(\n"
     ]
    },
    {
     "name": "stdout",
     "output_type": "stream",
     "text": [
      "   oversample_ratio        t1        t4  macro_f1\n",
      "0               0.1  0.831461  0.645784  0.575433\n",
      "1               0.2  0.886227  0.731112  0.536238\n",
      "2               0.3  0.914328  0.800854  0.515320\n",
      "3               0.4  0.933115  0.840750  0.498974\n",
      "4               0.5  0.940227  0.857179  0.488574\n"
     ]
    }
   ],
   "source": [
    "import numpy as np\n",
    "import pandas as pd\n",
    "from sklearn.utils import resample\n",
    "from sklearn.metrics import precision_recall_curve, f1_score, classification_report\n",
    "from lightgbm import LGBMClassifier, early_stopping\n",
    "\n",
    "# prepare containers\n",
    "results = []\n",
    "\n",
    "# define custom class weight\n",
    "weights = {1: 2, 2: 1, 3: 1, 4: 2}\n",
    "\n",
    "# majority‐class count\n",
    "maj_count = (y_train == 2).sum()\n",
    "\n",
    "for ratio in [0.1, 0.2, 0.3, 0.4, 0.5]:\n",
    "    # 1) oversample 1 & 4 to `ratio * maj_count`\n",
    "    n_up = int(ratio * maj_count)\n",
    "    X1, y1 = X_train_proc[y_train==1], y_train[y_train==1]\n",
    "    X4, y4 = X_train_proc[y_train==4], y_train[y_train==4]\n",
    "    X1_up, y1_up = resample(X1, y1, replace=True, n_samples=n_up, random_state=42)\n",
    "    X4_up, y4_up = resample(X4, y4, replace=True, n_samples=n_up, random_state=42)\n",
    "    X_res = np.vstack([X_train_proc, X1_up, X4_up])\n",
    "    y_res = np.hstack([y_train,    y1_up, y4_up])\n",
    "\n",
    "    # 2) train with custom weights + early stopping\n",
    "    model = LGBMClassifier(\n",
    "        objective=\"multiclass\", num_class=4,\n",
    "        n_estimators=1000, learning_rate=0.05,\n",
    "        class_weight=weights, random_state=42, n_jobs=-1\n",
    "    )\n",
    "    model.fit(\n",
    "        X_res, y_res,\n",
    "        eval_set=[(X_val_proc, y_val)],\n",
    "        eval_metric=\"multi_logloss\",\n",
    "        callbacks=[early_stopping(stopping_rounds=50)]\n",
    "    )\n",
    "\n",
    "    # 3) find best per‑class thresholds on VAL\n",
    "    proba_val = model.predict_proba(X_val_proc)\n",
    "    def find_thr(idx, y_val):\n",
    "        prec, rec, thr = precision_recall_curve((y_val==idx+1).astype(int), proba_val[:,idx])\n",
    "        f1s = 2*prec*rec/(prec+rec+1e-8)\n",
    "        return thr[np.argmax(f1s)]\n",
    "    t1 = find_thr(0, y_val)\n",
    "    t4 = find_thr(3, y_val)\n",
    "\n",
    "    # 4) eval on TEST with those thresholds\n",
    "    proba_test = model.predict_proba(X_test_proc)\n",
    "    preds = []\n",
    "    for p in proba_test:\n",
    "        if p[0]>=t1:       preds.append(1)\n",
    "        elif p[3]>=t4:     preds.append(4)\n",
    "        else:               preds.append(np.argmax(p)+1)\n",
    "    macro_f1 = f1_score(y_test, preds, average=\"macro\")\n",
    "    \n",
    "    results.append((ratio, t1, t4, macro_f1))\n",
    "\n",
    "# summarize\n",
    "df_res = pd.DataFrame(results, columns=[\"oversample_ratio\",\"t1\",\"t4\",\"macro_f1\"])\n",
    "print(df_res.sort_values(\"macro_f1\", ascending=False))\n"
   ]
  },
  {
   "cell_type": "code",
   "execution_count": null,
   "id": "5fce3ffc",
   "metadata": {},
   "outputs": [
    {
     "name": "stdout",
     "output_type": "stream",
     "text": [
      "[LightGBM] [Info] Auto-choosing row-wise multi-threading, the overhead of testing was 0.128386 seconds.\n",
      "You can set `force_row_wise=true` to remove the overhead.\n",
      "And if memory is not enough, you can set `force_col_wise=true`.\n",
      "[LightGBM] [Info] Total Bins 3770\n",
      "[LightGBM] [Info] Number of data points in the train set: 5375872, number of used features: 40\n",
      "[LightGBM] [Info] Start training from score -2.035890\n",
      "[LightGBM] [Info] Start training from score -0.530283\n",
      "[LightGBM] [Info] Start training from score -2.086016\n",
      "[LightGBM] [Info] Start training from score -1.852678\n",
      "Training until validation scores don't improve for 50 rounds\n",
      "Did not meet early stopping. Best iteration is:\n",
      "[1000]\tvalid_0's multi_logloss: 0.396783\n"
     ]
    },
    {
     "name": "stderr",
     "output_type": "stream",
     "text": [
      "/Library/Frameworks/Python.framework/Versions/3.12/lib/python3.12/site-packages/sklearn/utils/validation.py:2739: UserWarning: X does not have valid feature names, but LGBMClassifier was fitted with feature names\n",
      "  warnings.warn(\n"
     ]
    },
    {
     "name": "stdout",
     "output_type": "stream",
     "text": [
      "              precision    recall  f1-score   support\n",
      "\n",
      "           1       0.20      0.88      0.33     13473\n",
      "           2       0.93      0.88      0.90   1231396\n",
      "           3       0.77      0.62      0.68    259868\n",
      "           4       0.27      0.69      0.39     40942\n",
      "\n",
      "    accuracy                           0.83   1545679\n",
      "   macro avg       0.54      0.77      0.58   1545679\n",
      "weighted avg       0.88      0.83      0.85   1545679\n",
      "\n"
     ]
    }
   ],
   "source": [
    "from lightgbm import LGBMClassifier, early_stopping\n",
    "from sklearn.metrics import classification_report\n",
    "\n",
    "# Re‑prepare the resampled training data at 10%\n",
    "maj_count = (y_train == 2).sum()\n",
    "n_up = int(0.1 * maj_count)\n",
    "X1, y1 = X_train_proc[y_train==1], y_train[y_train==1]\n",
    "X4, y4 = X_train_proc[y_train==4], y_train[y_train==4]\n",
    "X1_up, y1_up = resample(X1, y1, replace=True, n_samples=n_up, random_state=42)\n",
    "X4_up, y4_up = resample(X4, y4, replace=True, n_samples=n_up, random_state=42)\n",
    "X_res = np.vstack([X_train_proc, X1_up, X4_up])\n",
    "y_res = np.hstack([y_train, y1_up, y4_up])\n",
    "\n",
    "# Train final model\n",
    "final_model = LGBMClassifier(\n",
    "    objective=\"multiclass\", num_class=4,\n",
    "    n_estimators=1000, learning_rate=0.05,\n",
    "    class_weight={1:2,2:1,3:1,4:2},\n",
    "    random_state=42, n_jobs=-1\n",
    ")\n",
    "final_model.fit(\n",
    "    X_res, y_res,\n",
    "    eval_set=[(X_val_proc, y_val)],\n",
    "    eval_metric=\"multi_logloss\",\n",
    "    callbacks=[early_stopping(stopping_rounds=50)]\n",
    ")\n",
    "\n",
    "# Predict with tuned thresholds\n",
    "proba_test = final_model.predict_proba(X_test_proc)\n",
    "preds = [\n",
    "    1 if p[0]>=0.83146 else\n",
    "    4 if p[3]>=0.64578 else\n",
    "    (p.argmax()+1)\n",
    "    for p in proba_test\n",
    "]\n",
    "\n",
    "# Print report\n",
    "print(classification_report(y_test, preds))\n"
   ]
  }
 ],
 "metadata": {
  "kernelspec": {
   "display_name": "Python 3",
   "language": "python",
   "name": "python3"
  },
  "language_info": {
   "codemirror_mode": {
    "name": "ipython",
    "version": 3
   },
   "file_extension": ".py",
   "mimetype": "text/x-python",
   "name": "python",
   "nbconvert_exporter": "python",
   "pygments_lexer": "ipython3",
   "version": "3.12.5"
  }
 },
 "nbformat": 4,
 "nbformat_minor": 5
}
